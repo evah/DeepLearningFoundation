{
 "cells": [
  {
   "cell_type": "markdown",
   "metadata": {
    "collapsed": true,
    "deletable": true,
    "editable": true
   },
   "source": [
    "# Image Classification\n",
    "In this project, you'll classify images from the [CIFAR-10 dataset](https://www.cs.toronto.edu/~kriz/cifar.html).  The dataset consists of airplanes, dogs, cats, and other objects. You'll preprocess the images, then train a convolutional neural network on all the samples. The images need to be normalized and the labels need to be one-hot encoded.  You'll get to apply what you learned and build a convolutional, max pooling, dropout, and fully connected layers.  At the end, you'll get to see your neural network's predictions on the sample images.\n",
    "## Get the Data\n",
    "Run the following cell to download the [CIFAR-10 dataset for python](https://www.cs.toronto.edu/~kriz/cifar-10-python.tar.gz)."
   ]
  },
  {
   "cell_type": "code",
   "execution_count": 1,
   "metadata": {
    "collapsed": false,
    "deletable": true,
    "editable": true
   },
   "outputs": [
    {
     "name": "stdout",
     "output_type": "stream",
     "text": [
      "All files found!\n"
     ]
    }
   ],
   "source": [
    "\"\"\"\n",
    "DON'T MODIFY ANYTHING IN THIS CELL THAT IS BELOW THIS LINE\n",
    "\"\"\"\n",
    "from urllib.request import urlretrieve\n",
    "from os.path import isfile, isdir\n",
    "from tqdm import tqdm\n",
    "import problem_unittests as tests\n",
    "import tarfile\n",
    "\n",
    "cifar10_dataset_folder_path = 'cifar-10-batches-py'\n",
    "\n",
    "class DLProgress(tqdm):\n",
    "    last_block = 0\n",
    "\n",
    "    def hook(self, block_num=1, block_size=1, total_size=None):\n",
    "        self.total = total_size\n",
    "        self.update((block_num - self.last_block) * block_size)\n",
    "        self.last_block = block_num\n",
    "\n",
    "if not isfile('cifar-10-python.tar.gz'):\n",
    "    with DLProgress(unit='B', unit_scale=True, miniters=1, desc='CIFAR-10 Dataset') as pbar:\n",
    "        urlretrieve(\n",
    "            'https://www.cs.toronto.edu/~kriz/cifar-10-python.tar.gz',\n",
    "            'cifar-10-python.tar.gz',\n",
    "            pbar.hook)\n",
    "\n",
    "if not isdir(cifar10_dataset_folder_path):\n",
    "    with tarfile.open('cifar-10-python.tar.gz') as tar:\n",
    "        tar.extractall()\n",
    "        tar.close()\n",
    "\n",
    "\n",
    "tests.test_folder_path(cifar10_dataset_folder_path)"
   ]
  },
  {
   "cell_type": "markdown",
   "metadata": {
    "deletable": true,
    "editable": true
   },
   "source": [
    "## Explore the Data\n",
    "The dataset is broken into batches to prevent your machine from running out of memory.  The CIFAR-10 dataset consists of 5 batches, named `data_batch_1`, `data_batch_2`, etc.. Each batch contains the labels and images that are one of the following:\n",
    "* airplane\n",
    "* automobile\n",
    "* bird\n",
    "* cat\n",
    "* deer\n",
    "* dog\n",
    "* frog\n",
    "* horse\n",
    "* ship\n",
    "* truck\n",
    "\n",
    "Understanding a dataset is part of making predictions on the data.  Play around with the code cell below by changing the `batch_id` and `sample_id`. The `batch_id` is the id for a batch (1-5). The `sample_id` is the id for a image and label pair in the batch.\n",
    "\n",
    "Ask yourself \"What are all possible labels?\", \"What is the range of values for the image data?\", \"Are the labels in order or random?\".  Answers to questions like these will help you preprocess the data and end up with better predictions."
   ]
  },
  {
   "cell_type": "code",
   "execution_count": 2,
   "metadata": {
    "collapsed": false,
    "deletable": true,
    "editable": true
   },
   "outputs": [
    {
     "name": "stdout",
     "output_type": "stream",
     "text": [
      "\n",
      "Stats of batch 1:\n",
      "Samples: 10000\n",
      "Label Counts: {0: 1005, 1: 974, 2: 1032, 3: 1016, 4: 999, 5: 937, 6: 1030, 7: 1001, 8: 1025, 9: 981}\n",
      "First 20 Labels: [6, 9, 9, 4, 1, 1, 2, 7, 8, 3, 4, 7, 7, 2, 9, 9, 9, 3, 2, 6]\n",
      "\n",
      "Example of Image 5:\n",
      "Image - Min Value: 0 Max Value: 252\n",
      "Image - Shape: (32, 32, 3)\n",
      "Label - Label Id: 1 Name: automobile\n"
     ]
    },
    {
     "data": {
      "image/png": "[encoded data removed]",
      "text/plain": [
       "<matplotlib.figure.Figure at 0x7f8ae159d6d8>"
      ]
     },
     "metadata": {
      "image/png": {
       "height": 250,
       "width": 253
      }
     },
     "output_type": "display_data"
    }
   ],
   "source": [
    "%matplotlib inline\n",
    "%config InlineBackend.figure_format = 'retina'\n",
    "\n",
    "import helper\n",
    "import numpy as np\n",
    "\n",
    "# Explore the dataset\n",
    "batch_id = 1\n",
    "sample_id = 5\n",
    "helper.display_stats(cifar10_dataset_folder_path, batch_id, sample_id)"
   ]
  },
  {
   "cell_type": "markdown",
   "metadata": {
    "deletable": true,
    "editable": true
   },
   "source": [
    "## Implement Preprocess Functions\n",
    "### Normalize\n",
    "In the cell below, implement the `normalize` function to take in image data, `x`, and return it as a normalized Numpy array. The values should be in the range of 0 to 1, inclusive.  The return object should be the same shape as `x`."
   ]
  },
  {
   "cell_type": "code",
   "execution_count": 3,
   "metadata": {
    "collapsed": false,
    "deletable": true,
    "editable": true
   },
   "outputs": [
    {
     "name": "stdout",
     "output_type": "stream",
     "text": [
      "Tests Passed\n"
     ]
    }
   ],
   "source": [
    "def normalize(x):\n",
    "    \"\"\"\n",
    "    Normalize a list of sample image data in the range of 0 to 1\n",
    "    : x: List of image data.  The image shape is (32, 32, 3)\n",
    "    : return: Numpy array of normalize data\n",
    "    \"\"\"\n",
    "    x_min = np.min(x)\n",
    "    x_max = np.max(x)\n",
    "    norm = (x - x_min) / (x_max - x_min)\n",
    "    return norm\n",
    "\n",
    "\n",
    "\"\"\"\n",
    "DON'T MODIFY ANYTHING IN THIS CELL THAT IS BELOW THIS LINE\n",
    "\"\"\"\n",
    "tests.test_normalize(normalize)"
   ]
  },
  {
   "cell_type": "markdown",
   "metadata": {
    "deletable": true,
    "editable": true
   },
   "source": [
    "### One-hot encode\n",
    "Just like the previous code cell, you'll be implementing a function for preprocessing.  This time, you'll implement the `one_hot_encode` function. The input, `x`, are a list of labels.  Implement the function to return the list of labels as One-Hot encoded Numpy array.  The possible values for labels are 0 to 9. The one-hot encoding function should return the same encoding for each value between each call to `one_hot_encode`.  Make sure to save the map of encodings outside the function.\n",
    "\n",
    "Hint: Don't reinvent the wheel."
   ]
  },
  {
   "cell_type": "code",
   "execution_count": 4,
   "metadata": {
    "collapsed": false,
    "deletable": true,
    "editable": true
   },
   "outputs": [
    {
     "name": "stdout",
     "output_type": "stream",
     "text": [
      "Tests Passed\n"
     ]
    }
   ],
   "source": [
    "def one_hot_encode(x):\n",
    "    \"\"\"\n",
    "    One hot encode a list of sample labels. Return a one-hot encoded vector for each label.\n",
    "    : x: List of sample Labels\n",
    "    : return: Numpy array of one-hot encoded labels\n",
    "    \"\"\"\n",
    "    # TODO: Implement Function\n",
    "    one_hot_encoding = np.eye(10)[x]\n",
    "    return one_hot_encoding\n",
    "    \n",
    "\n",
    "\"\"\"\n",
    "DON'T MODIFY ANYTHING IN THIS CELL THAT IS BELOW THIS LINE\n",
    "\"\"\"\n",
    "tests.test_one_hot_encode(one_hot_encode)"
   ]
  },
  {
   "cell_type": "markdown",
   "metadata": {
    "deletable": true,
    "editable": true
   },
   "source": [
    "### Randomize Data\n",
    "As you saw from exploring the data above, the order of the samples are randomized.  It doesn't hurt to randomize it again, but you don't need to for this dataset."
   ]
  },
  {
   "cell_type": "markdown",
   "metadata": {
    "deletable": true,
    "editable": true
   },
   "source": [
    "## Preprocess all the data and save it\n",
    "Running the code cell below will preprocess all the CIFAR-10 data and save it to file. The code below also uses 10% of the training data for validation."
   ]
  },
  {
   "cell_type": "code",
   "execution_count": 188,
   "metadata": {
    "collapsed": false,
    "deletable": true,
    "editable": true
   },
   "outputs": [],
   "source": [
    "\"\"\"\n",
    "DON'T MODIFY ANYTHING IN THIS CELL\n",
    "\"\"\"\n",
    "# Preprocess Training, Validation, and Testing Data\n",
    "helper.preprocess_and_save_data(cifar10_dataset_folder_path, normalize, one_hot_encode)"
   ]
  },
  {
   "cell_type": "markdown",
   "metadata": {
    "deletable": true,
    "editable": true
   },
   "source": [
    "# Check Point\n",
    "This is your first checkpoint.  If you ever decide to come back to this notebook or have to restart the notebook, you can start from here.  The preprocessed data has been saved to disk."
   ]
  },
  {
   "cell_type": "code",
   "execution_count": 5,
   "metadata": {
    "collapsed": false,
    "deletable": true,
    "editable": true
   },
   "outputs": [],
   "source": [
    "\"\"\"\n",
    "DON'T MODIFY ANYTHING IN THIS CELL\n",
    "\"\"\"\n",
    "import pickle\n",
    "import problem_unittests as tests\n",
    "import helper\n",
    "\n",
    "# Load the Preprocessed Validation data\n",
    "valid_features, valid_labels = pickle.load(open('preprocess_validation.p', mode='rb'))"
   ]
  },
  {
   "cell_type": "markdown",
   "metadata": {
    "deletable": true,
    "editable": true
   },
   "source": [
    "## Build the network\n",
    "For the neural network, you'll build each layer into a function.  Most of the code you've seen has been outside of functions. To test your code more thoroughly, we require that you put each layer in a function.  This allows us to give you better feedback and test for simple mistakes using our unittests before you submit your project.\n",
    "\n",
    ">**Note:** If you're finding it hard to dedicate enough time for this course each week, we've provided a small shortcut to this part of the project. In the next couple of problems, you'll have the option to use classes from the [TensorFlow Layers](https://www.tensorflow.org/api_docs/python/tf/layers) or [TensorFlow Layers (contrib)](https://www.tensorflow.org/api_guides/python/contrib.layers) packages to build each layer, except the layers you build in the \"Convolutional and Max Pooling Layer\" section.  TF Layers is similar to Keras's and TFLearn's abstraction to layers, so it's easy to pickup.\n",
    "\n",
    ">However, if you would like to get the most out of this course, try to solve all the problems _without_ using anything from the TF Layers packages. You **can** still use classes from other packages that happen to have the same name as ones you find in TF Layers! For example, instead of using the TF Layers version of the `conv2d` class, [tf.layers.conv2d](https://www.tensorflow.org/api_docs/python/tf/layers/conv2d), you would want to use the TF Neural Network version of `conv2d`, [tf.nn.conv2d](https://www.tensorflow.org/api_docs/python/tf/nn/conv2d). \n",
    "\n",
    "Let's begin!\n",
    "\n",
    "### Input\n",
    "The neural network needs to read the image data, one-hot encoded labels, and dropout keep probability. Implement the following functions\n",
    "* Implement `neural_net_image_input`\n",
    " * Return a [TF Placeholder](https://www.tensorflow.org/api_docs/python/tf/placeholder)\n",
    " * Set the shape using `image_shape` with batch size set to `None`.\n",
    " * Name the TensorFlow placeholder \"x\" using the TensorFlow `name` parameter in the [TF Placeholder](https://www.tensorflow.org/api_docs/python/tf/placeholder).\n",
    "* Implement `neural_net_label_input`\n",
    " * Return a [TF Placeholder](https://www.tensorflow.org/api_docs/python/tf/placeholder)\n",
    " * Set the shape using `n_classes` with batch size set to `None`.\n",
    " * Name the TensorFlow placeholder \"y\" using the TensorFlow `name` parameter in the [TF Placeholder](https://www.tensorflow.org/api_docs/python/tf/placeholder).\n",
    "* Implement `neural_net_keep_prob_input`\n",
    " * Return a [TF Placeholder](https://www.tensorflow.org/api_docs/python/tf/placeholder) for dropout keep probability.\n",
    " * Name the TensorFlow placeholder \"keep_prob\" using the TensorFlow `name` parameter in the [TF Placeholder](https://www.tensorflow.org/api_docs/python/tf/placeholder).\n",
    "\n",
    "These names will be used at the end of the project to load your saved model.\n",
    "\n",
    "Note: `None` for shapes in TensorFlow allow for a dynamic size."
   ]
  },
  {
   "cell_type": "code",
   "execution_count": 6,
   "metadata": {
    "collapsed": false,
    "deletable": true,
    "editable": true
   },
   "outputs": [
    {
     "name": "stdout",
     "output_type": "stream",
     "text": [
      "Image Input Tests Passed.\n",
      "Label Input Tests Passed.\n",
      "Keep Prob Tests Passed.\n"
     ]
    }
   ],
   "source": [
    "import tensorflow as tf\n",
    "\n",
    "def neural_net_image_input(image_shape):\n",
    "    \"\"\"\n",
    "    Return a Tensor for a bach of image input\n",
    "    : image_shape: Shape of the images\n",
    "    : return: Tensor for image input.\n",
    "    \"\"\"\n",
    "    # TODO: Implement Function\n",
    "    return tf.placeholder(dtype=tf.float32,shape=(None,*image_shape),name='x')\n",
    "\n",
    "def neural_net_label_input(n_classes):\n",
    "    \"\"\"\n",
    "    Return a Tensor for a batch of label input\n",
    "    : n_classes: Number of classes\n",
    "    : return: Tensor for label input.\n",
    "    \"\"\"\n",
    "    # TODO: Implement Function\n",
    "    return tf.placeholder(dtype=tf.float32,shape=(None,n_classes),name='y')\n",
    "\n",
    "\n",
    "def neural_net_keep_prob_input():\n",
    "    \"\"\"\n",
    "    Return a Tensor for keep probability\n",
    "    : return: Tensor for keep probability.\n",
    "    \"\"\"\n",
    "    # TODO: Implement Function\n",
    "    return tf.placeholder(tf.float32, name='keep_prob')\n",
    "\n",
    "\n",
    "\"\"\"\n",
    "DON'T MODIFY ANYTHING IN THIS CELL THAT IS BELOW THIS LINE\n",
    "\"\"\"\n",
    "tf.reset_default_graph()\n",
    "tests.test_nn_image_inputs(neural_net_image_input)\n",
    "tests.test_nn_label_inputs(neural_net_label_input)\n",
    "tests.test_nn_keep_prob_inputs(neural_net_keep_prob_input)"
   ]
  },
  {
   "cell_type": "markdown",
   "metadata": {
    "deletable": true,
    "editable": true
   },
   "source": [
    "### Convolution and Max Pooling Layer\n",
    "Convolution layers have a lot of success with images. For this code cell, you should implement the function `conv2d_maxpool` to apply convolution then max pooling:\n",
    "* Create the weight and bias using `conv_ksize`, `conv_num_outputs` and the shape of `x_tensor`.\n",
    "* Apply a convolution to `x_tensor` using weight and `conv_strides`.\n",
    " * We recommend you use same padding, but you're welcome to use any padding.\n",
    "* Add bias\n",
    "* Add a nonlinear activation to the convolution.\n",
    "* Apply Max Pooling using `pool_ksize` and `pool_strides`.\n",
    " * We recommend you use same padding, but you're welcome to use any padding.\n",
    "\n",
    "**Note:** You **can't** use [TensorFlow Layers](https://www.tensorflow.org/api_docs/python/tf/layers) or [TensorFlow Layers (contrib)](https://www.tensorflow.org/api_guides/python/contrib.layers) for **this** layer, but you can still use TensorFlow's [Neural Network](https://www.tensorflow.org/api_docs/python/tf/nn) package. You may still use the shortcut option for all the **other** layers."
   ]
  },
  {
   "cell_type": "code",
   "execution_count": 16,
   "metadata": {
    "collapsed": false,
    "deletable": true,
    "editable": true
   },
   "outputs": [
    {
     "name": "stdout",
     "output_type": "stream",
     "text": [
      "Tests Passed\n"
     ]
    }
   ],
   "source": [
    "def conv2d_maxpool(x_tensor, conv_num_outputs, conv_ksize, conv_strides, pool_ksize, pool_strides):\n",
    "    \"\"\"\n",
    "    Apply convolution then max pooling to x_tensor\n",
    "    :param x_tensor: TensorFlow Tensor\n",
    "    :param conv_num_outputs: Number of outputs for the convolutional layer\n",
    "    :param conv_ksize: kernal size 2-D Tuple for the convolutional layer\n",
    "    :param conv_strides: Stride 2-D Tuple for convolution\n",
    "    :param pool_ksize: kernal size 2-D Tuple for pool\n",
    "    :param pool_strides: Stride 2-D Tuple for pool\n",
    "    : return: A tensor that represents convolution and max pooling of x_tensor\n",
    "    \"\"\"\n",
    "    # TODO: Implement Function\n",
    "      \n",
    "    weight = tf.Variable(tf.truncated_normal([*conv_ksize, x_tensor.get_shape().as_list()[-1], \\\n",
    "                                              conv_num_outputs],stddev=.05,dtype=tf.float32, seed=None, name=None))\n",
    "    bias = tf.Variable(tf.zeros(conv_num_outputs))   \n",
    "    conv = tf.nn.conv2d(x_tensor,weight,strides=[1,*conv_strides,1],padding='SAME')\n",
    "    conv = tf.nn.bias_add(conv,bias)\n",
    "    conv =tf.nn.relu(conv)\n",
    "    conv = tf.nn.max_pool(conv,ksize=[1,*pool_ksize,1],strides=[1,*pool_strides,1],padding='SAME')\n",
    "    return conv \n",
    "\n",
    "\n",
    "\"\"\"\n",
    "DON'T MODIFY ANYTHING IN THIS CELL THAT IS BELOW THIS LINE\n",
    "\"\"\"\n",
    "tests.test_con_pool(conv2d_maxpool)"
   ]
  },
  {
   "cell_type": "markdown",
   "metadata": {
    "deletable": true,
    "editable": true
   },
   "source": [
    "### Flatten Layer\n",
    "Implement the `flatten` function to change the dimension of `x_tensor` from a 4-D tensor to a 2-D tensor.  The output should be the shape (*Batch Size*, *Flattened Image Size*). Shortcut option: you can use classes from the [TensorFlow Layers](https://www.tensorflow.org/api_docs/python/tf/layers) or [TensorFlow Layers (contrib)](https://www.tensorflow.org/api_guides/python/contrib.layers) packages for this layer. For more of a challenge, only use other TensorFlow packages."
   ]
  },
  {
   "cell_type": "code",
   "execution_count": 17,
   "metadata": {
    "collapsed": false,
    "deletable": true,
    "editable": true
   },
   "outputs": [
    {
     "name": "stdout",
     "output_type": "stream",
     "text": [
      "Tests Passed\n"
     ]
    }
   ],
   "source": [
    "def flatten(x_tensor):\n",
    "    \"\"\"\n",
    "    Flatten x_tensor to (Batch Size, Flattened Image Size)\n",
    "    : x_tensor: A tensor of size (Batch Size, ...), where ... are the image dimensions.\n",
    "    : return: A tensor of size (Batch Size, Flattened Image Size).\n",
    "    \"\"\"\n",
    "    # TODO: Implement Function\n",
    "\n",
    "#     old_shape = x_tensor.get_shape()\n",
    "#     flattened_image_size = np.prod([x for x in old_shape[1:]])\n",
    "#     new_shape = [-1, flattened_image_size.value]\n",
    "#     return tf.reshape(x_tensor, new_shape)\n",
    "    return  tf.contrib.layers.flatten(x_tensor)\n",
    "    \n",
    "\"\"\"\n",
    "DON'T MODIFY ANYTHING IN THIS CELL THAT IS BELOW THIS LINE\n",
    "\"\"\"\n",
    "tests.test_flatten(flatten)"
   ]
  },
  {
   "cell_type": "markdown",
   "metadata": {
    "deletable": true,
    "editable": true
   },
   "source": [
    "### Fully-Connected Layer\n",
    "Implement the `fully_conn` function to apply a fully connected layer to `x_tensor` with the shape (*Batch Size*, *num_outputs*). Shortcut option: you can use classes from the [TensorFlow Layers](https://www.tensorflow.org/api_docs/python/tf/layers) or [TensorFlow Layers (contrib)](https://www.tensorflow.org/api_guides/python/contrib.layers) packages for this layer. For more of a challenge, only use other TensorFlow packages."
   ]
  },
  {
   "cell_type": "code",
   "execution_count": 18,
   "metadata": {
    "collapsed": false,
    "deletable": true,
    "editable": true
   },
   "outputs": [
    {
     "name": "stdout",
     "output_type": "stream",
     "text": [
      "Tests Passed\n"
     ]
    }
   ],
   "source": [
    "def fully_conn(x_tensor, num_outputs):\n",
    "    \"\"\"\n",
    "    Apply a fully connected layer to x_tensor using weight and bias\n",
    "    : x_tensor: A 2-D tensor where the first dimension is batch size.\n",
    "    : num_outputs: The number of output that the new tensor should be.\n",
    "    : return: A 2-D tensor where the second dimension is num_outputs.\n",
    "    \"\"\"\n",
    "    # TODO: Implement Function\n",
    "    \n",
    "#     x = x_tensor.get_shape().as_list()[1]\n",
    "#     weights_fully = tf.Variable(tf.truncated_normal([x, num_outputs], \\\n",
    "#     mean=0.0,stddev=0.05, dtype=tf.float32, seed=None, name=None))\n",
    "#     biases_fully = tf.Variable(tf.zeros(num_outputs))\n",
    "#     fully = tf.add(tf.matmul(x_tensor, weights_fully), biases_fully)\n",
    "#     fully = tf.nn.relu(fully)\n",
    "    \n",
    "#     return fully\n",
    "#     fc = tf.contrib.layers.fully_connected(x_tensor,num_outputs)\n",
    "#     fc = tf.nn.relu(fc)\n",
    "#     return fc\n",
    "    return tf.contrib.layers.fully_connected(x_tensor, num_outputs, activation_fn=tf.nn.relu)\n",
    "\n",
    "\n",
    "\"\"\"\n",
    "DON'T MODIFY ANYTHING IN THIS CELL THAT IS BELOW THIS LINE\n",
    "\"\"\"\n",
    "tests.test_fully_conn(fully_conn)"
   ]
  },
  {
   "cell_type": "markdown",
   "metadata": {
    "deletable": true,
    "editable": true
   },
   "source": [
    "### Output Layer\n",
    "Implement the `output` function to apply a fully connected layer to `x_tensor` with the shape (*Batch Size*, *num_outputs*). Shortcut option: you can use classes from the [TensorFlow Layers](https://www.tensorflow.org/api_docs/python/tf/layers) or [TensorFlow Layers (contrib)](https://www.tensorflow.org/api_guides/python/contrib.layers) packages for this layer. For more of a challenge, only use other TensorFlow packages.\n",
    "\n",
    "**Note:** Activation, softmax, or cross entropy should **not** be applied to this."
   ]
  },
  {
   "cell_type": "code",
   "execution_count": 19,
   "metadata": {
    "collapsed": false,
    "deletable": true,
    "editable": true
   },
   "outputs": [
    {
     "name": "stdout",
     "output_type": "stream",
     "text": [
      "Tests Passed\n"
     ]
    }
   ],
   "source": [
    "def output(x_tensor, num_outputs):\n",
    "    \"\"\"\n",
    "    Apply a output layer to x_tensor using weight and bias\n",
    "    : x_tensor: A 2-D tensor where the first dimension is batch size.\n",
    "    : num_outputs: The number of output that the new tensor should be.\n",
    "    : return: A 2-D tensor where the second dimension is num_outputs.\n",
    "    \"\"\"\n",
    "    # TODO: Implement Function\n",
    "#     x = x_tensor.get_shape().as_list()[1]\n",
    "#     weights_out = tf.Variable(tf.truncated_normal([x, num_outputs], mean=0.0, stddev=0.05,dtype=tf.float32, seed=None, name=None))\n",
    "#     biases_out = tf.Variable(tf.zeros(num_outputs))\n",
    "#     out = tf.add(tf.matmul(x_tensor, weights_out), biases_out)\n",
    "#     return out\n",
    "    return tf.contrib.layers.fully_connected(x_tensor, num_outputs, activation_fn=None)\n",
    "\n",
    "\n",
    "\"\"\"\n",
    "DON'T MODIFY ANYTHING IN THIS CELL THAT IS BELOW THIS LINE\n",
    "\"\"\"\n",
    "tests.test_output(output)"
   ]
  },
  {
   "cell_type": "markdown",
   "metadata": {
    "deletable": true,
    "editable": true
   },
   "source": [
    "### Create Convolutional Model\n",
    "Implement the function `conv_net` to create a convolutional neural network model. The function takes in a batch of images, `x`, and outputs logits.  Use the layers you created above to create this model:\n",
    "\n",
    "* Apply 1, 2, or 3 Convolution and Max Pool layers\n",
    "* Apply a Flatten Layer\n",
    "* Apply 1, 2, or 3 Fully Connected Layers\n",
    "* Apply an Output Layer\n",
    "* Return the output\n",
    "* Apply [TensorFlow's Dropout](https://www.tensorflow.org/api_docs/python/tf/nn/dropout) to one or more layers in the model using `keep_prob`. "
   ]
  },
  {
   "cell_type": "code",
   "execution_count": 32,
   "metadata": {
    "collapsed": false,
    "deletable": true,
    "editable": true
   },
   "outputs": [
    {
     "name": "stdout",
     "output_type": "stream",
     "text": [
      "Neural Network Built!\n"
     ]
    }
   ],
   "source": [
    "def conv_net(x, keep_prob):\n",
    "    \"\"\"\n",
    "    Create a convolutional neural network model\n",
    "    : x: Placeholder tensor that holds image data.\n",
    "    : keep_prob: Placeholder tensor that hold dropout keep probability.\n",
    "    : return: Tensor that represents logits\n",
    "    \"\"\"\n",
    "    # TODO: Apply 1, 2, or 3 Convolution and Max Pool layers\n",
    "    #    Play around with different number of outputs, kernel size and stride\n",
    "    # Function Definition from Above:\n",
    "    #    conv2d_maxpool(x_tensor, conv_num_outputs, conv_ksize, conv_strides, pool_ksize, pool_strides)\n",
    "    \n",
    "    #conv_num_outputs1 = 16\n",
    "    conv_num_outputs2 = 32\n",
    "    conv_num_outputs3 = 48\n",
    "    \n",
    "    conv_ksize = (3, 3)\n",
    "    conv_strides = (1, 1)\n",
    "    pool_ksize = (2, 2)\n",
    "    pool_strides = (2, 2)\n",
    "    \n",
    "    num_outputs1 = 512\n",
    "    #num_outputs2 = 512\n",
    "    \n",
    "    conv = x\n",
    "    #conv = conv2d_maxpool(conv, conv_num_outputs1, conv_ksize, conv_strides, pool_ksize, pool_strides)\n",
    "    conv = conv2d_maxpool(conv, conv_num_outputs2, conv_ksize, conv_strides, pool_ksize, pool_strides)\n",
    "    conv = conv2d_maxpool(conv, conv_num_outputs3, conv_ksize, conv_strides, pool_ksize, pool_strides)\n",
    "    \n",
    "    flat = flatten(conv)\n",
    "    \n",
    "    full = fully_conn(flat, num_outputs1)\n",
    "    full = tf.nn.dropout(full, keep_prob)\n",
    "    #full = fully_conn(full, num_outputs2)\n",
    "    #full = tf.nn.dropout(full, keep_prob)\n",
    "    \n",
    "    out = output(full, 10)    \n",
    "    \n",
    "    # TODO: return output\n",
    "    return out\n",
    "\n",
    "\n",
    "\"\"\"\n",
    "DON'T MODIFY ANYTHING IN THIS CELL THAT IS BELOW THIS LINE\n",
    "\"\"\"\n",
    "\n",
    "##############################\n",
    "## Build the Neural Network ##\n",
    "##############################\n",
    "\n",
    "# Remove previous weights, bias, inputs, etc..\n",
    "tf.reset_default_graph()\n",
    "\n",
    "# Inputs\n",
    "x = neural_net_image_input((32, 32, 3))\n",
    "y = neural_net_label_input(10)\n",
    "keep_prob = neural_net_keep_prob_input()\n",
    "\n",
    "# Model\n",
    "logits = conv_net(x, keep_prob)\n",
    "\n",
    "# Name logits Tensor, so that is can be loaded from disk after training\n",
    "logits = tf.identity(logits, name='logits')\n",
    "\n",
    "# Loss and Optimizer\n",
    "cost = tf.reduce_mean(tf.nn.softmax_cross_entropy_with_logits(logits=logits, labels=y))\n",
    "optimizer = tf.train.AdamOptimizer().minimize(cost)\n",
    "\n",
    "# Accuracy\n",
    "correct_pred = tf.equal(tf.argmax(logits, 1), tf.argmax(y, 1))\n",
    "accuracy = tf.reduce_mean(tf.cast(correct_pred, tf.float32), name='accuracy')\n",
    "\n",
    "tests.test_conv_net(conv_net)"
   ]
  },
  {
   "cell_type": "markdown",
   "metadata": {
    "deletable": true,
    "editable": true
   },
   "source": [
    "## Train the Neural Network\n",
    "### Single Optimization\n",
    "Implement the function `train_neural_network` to do a single optimization.  The optimization should use `optimizer` to optimize in `session` with a `feed_dict` of the following:\n",
    "* `x` for image input\n",
    "* `y` for labels\n",
    "* `keep_prob` for keep probability for dropout\n",
    "\n",
    "This function will be called for each batch, so `tf.global_variables_initializer()` has already been called.\n",
    "\n",
    "Note: Nothing needs to be returned. This function is only optimizing the neural network."
   ]
  },
  {
   "cell_type": "code",
   "execution_count": 33,
   "metadata": {
    "collapsed": false,
    "deletable": true,
    "editable": true
   },
   "outputs": [
    {
     "name": "stdout",
     "output_type": "stream",
     "text": [
      "Tests Passed\n"
     ]
    }
   ],
   "source": [
    "def train_neural_network(session, optimizer, keep_probability, feature_batch, label_batch):\n",
    "    \"\"\"\n",
    "    Optimize the session on a batch of images and labels\n",
    "    : session: Current TensorFlow session\n",
    "    : optimizer: TensorFlow optimizer function\n",
    "    : keep_probability: keep probability\n",
    "    : feature_batch: Batch of Numpy image data\n",
    "    : label_batch: Batch of Numpy label data\n",
    "    \"\"\"\n",
    "    # TODO: Implement Function\n",
    "    session.run(optimizer, feed_dict={x:feature_batch, y:label_batch,keep_prob:keep_probability})\n",
    "\n",
    "\n",
    "\"\"\"\n",
    "DON'T MODIFY ANYTHING IN THIS CELL THAT IS BELOW THIS LINE\n",
    "\"\"\"\n",
    "tests.test_train_nn(train_neural_network)"
   ]
  },
  {
   "cell_type": "markdown",
   "metadata": {
    "deletable": true,
    "editable": true
   },
   "source": [
    "### Show Stats\n",
    "Implement the function `print_stats` to print loss and validation accuracy.  Use the global variables `valid_features` and `valid_labels` to calculate validation accuracy.  Use a keep probability of `1.0` to calculate the loss and validation accuracy."
   ]
  },
  {
   "cell_type": "code",
   "execution_count": 34,
   "metadata": {
    "collapsed": false,
    "deletable": true,
    "editable": true
   },
   "outputs": [],
   "source": [
    "def print_stats(session, feature_batch, label_batch, cost, accuracy):\n",
    "    \"\"\"\n",
    "    Print information about loss and validation accuracy\n",
    "    : session: Current TensorFlow session\n",
    "    : feature_batch: Batch of Numpy image data\n",
    "    : label_batch: Batch of Numpy label data\n",
    "    : cost: TensorFlow cost function\n",
    "    : accuracy: TensorFlow accuracy function\n",
    "    \"\"\"\n",
    "    cost = session.run(cost, feed_dict = \n",
    "                   {x: feature_batch,y: label_batch, keep_prob: 1.0})\n",
    "    valid_acc = session.run(accuracy,feed_dict = \n",
    "                  {x: valid_features, y: valid_labels, keep_prob: 1.0})\n",
    "    print('cost: {:>10.4f} accuracy: {:.6f}'.format(cost,valid_acc))"
   ]
  },
  {
   "cell_type": "markdown",
   "metadata": {
    "deletable": true,
    "editable": true
   },
   "source": [
    "### Hyperparameters\n",
    "Tune the following parameters:\n",
    "* Set `epochs` to the number of iterations until the network stops learning or start overfitting\n",
    "* Set `batch_size` to the highest number that your machine has memory for.  Most people set them to common sizes of memory:\n",
    " * 64\n",
    " * 128\n",
    " * 256\n",
    " * ...\n",
    "* Set `keep_probability` to the probability of keeping a node using dropout"
   ]
  },
  {
   "cell_type": "code",
   "execution_count": 35,
   "metadata": {
    "collapsed": true,
    "deletable": true,
    "editable": true
   },
   "outputs": [],
   "source": [
    "# TODO: Tune Parameters\n",
    "epochs = 30\n",
    "batch_size = 512\n",
    "keep_probability = 0.75"
   ]
  },
  {
   "cell_type": "markdown",
   "metadata": {
    "deletable": true,
    "editable": true
   },
   "source": [
    "### Train on a Single CIFAR-10 Batch\n",
    "Instead of training the neural network on all the CIFAR-10 batches of data, let's use a single batch. This should save time while you iterate on the model to get a better accuracy.  Once the final validation accuracy is 50% or greater, run the model on all the data in the next section."
   ]
  },
  {
   "cell_type": "code",
   "execution_count": 36,
   "metadata": {
    "collapsed": false,
    "deletable": true,
    "editable": true
   },
   "outputs": [
    {
     "name": "stdout",
     "output_type": "stream",
     "text": [
      "Checking the Training on a Single Batch...\n",
      "Epoch  1, CIFAR-10 Batch 1:  cost:     1.9773 accuracy: 0.327400\n",
      "Epoch  2, CIFAR-10 Batch 1:  cost:     1.8065 accuracy: 0.392000\n",
      "Epoch  3, CIFAR-10 Batch 1:  cost:     1.7011 accuracy: 0.416000\n",
      "Epoch  4, CIFAR-10 Batch 1:  cost:     1.6075 accuracy: 0.437000\n",
      "Epoch  5, CIFAR-10 Batch 1:  cost:     1.5112 accuracy: 0.465600\n",
      "Epoch  6, CIFAR-10 Batch 1:  cost:     1.4352 accuracy: 0.490000\n",
      "Epoch  7, CIFAR-10 Batch 1:  cost:     1.3630 accuracy: 0.502600\n",
      "Epoch  8, CIFAR-10 Batch 1:  cost:     1.3127 accuracy: 0.509200\n",
      "Epoch  9, CIFAR-10 Batch 1:  cost:     1.2504 accuracy: 0.523000\n",
      "Epoch 10, CIFAR-10 Batch 1:  cost:     1.2017 accuracy: 0.540600\n",
      "Epoch 11, CIFAR-10 Batch 1:  cost:     1.1413 accuracy: 0.543800\n",
      "Epoch 12, CIFAR-10 Batch 1:  cost:     1.0726 accuracy: 0.554000\n",
      "Epoch 13, CIFAR-10 Batch 1:  cost:     1.0241 accuracy: 0.559000\n",
      "Epoch 14, CIFAR-10 Batch 1:  cost:     0.9641 accuracy: 0.567600\n",
      "Epoch 15, CIFAR-10 Batch 1:  cost:     0.9141 accuracy: 0.571400\n",
      "Epoch 16, CIFAR-10 Batch 1:  cost:     0.8827 accuracy: 0.574800\n",
      "Epoch 17, CIFAR-10 Batch 1:  cost:     0.8362 accuracy: 0.572400\n",
      "Epoch 18, CIFAR-10 Batch 1:  cost:     0.7999 accuracy: 0.572600\n",
      "Epoch 19, CIFAR-10 Batch 1:  cost:     0.7566 accuracy: 0.574600\n",
      "Epoch 20, CIFAR-10 Batch 1:  cost:     0.6848 accuracy: 0.587200\n",
      "Epoch 21, CIFAR-10 Batch 1:  cost:     0.6442 accuracy: 0.587800\n",
      "Epoch 22, CIFAR-10 Batch 1:  cost:     0.5863 accuracy: 0.598200\n",
      "Epoch 23, CIFAR-10 Batch 1:  cost:     0.5648 accuracy: 0.594400\n",
      "Epoch 24, CIFAR-10 Batch 1:  cost:     0.5132 accuracy: 0.598200\n",
      "Epoch 25, CIFAR-10 Batch 1:  cost:     0.4931 accuracy: 0.591400\n",
      "Epoch 26, CIFAR-10 Batch 1:  cost:     0.4472 accuracy: 0.596400\n",
      "Epoch 27, CIFAR-10 Batch 1:  cost:     0.4361 accuracy: 0.582600\n",
      "Epoch 28, CIFAR-10 Batch 1:  cost:     0.4122 accuracy: 0.580400\n",
      "Epoch 29, CIFAR-10 Batch 1:  cost:     0.3804 accuracy: 0.589200\n",
      "Epoch 30, CIFAR-10 Batch 1:  cost:     0.3504 accuracy: 0.601800\n"
     ]
    }
   ],
   "source": [
    "\"\"\"\n",
    "DON'T MODIFY ANYTHING IN THIS CELL\n",
    "\"\"\"\n",
    "print('Checking the Training on a Single Batch...')\n",
    "with tf.Session() as sess:\n",
    "    # Initializing the variables\n",
    "    sess.run(tf.global_variables_initializer())\n",
    "    \n",
    "    # Training cycle\n",
    "    for epoch in range(epochs):\n",
    "        batch_i = 1\n",
    "        for batch_features, batch_labels in helper.load_preprocess_training_batch(batch_i, batch_size):\n",
    "            train_neural_network(sess, optimizer, keep_probability, batch_features, batch_labels)\n",
    "        print('Epoch {:>2}, CIFAR-10 Batch {}:  '.format(epoch + 1, batch_i), end='')\n",
    "        print_stats(sess, batch_features, batch_labels, cost, accuracy)"
   ]
  },
  {
   "cell_type": "markdown",
   "metadata": {
    "deletable": true,
    "editable": true
   },
   "source": [
    "### Fully Train the Model\n",
    "Now that you got a good accuracy with a single CIFAR-10 batch, try it with all five batches."
   ]
  },
  {
   "cell_type": "code",
   "execution_count": 37,
   "metadata": {
    "collapsed": false,
    "deletable": true,
    "editable": true
   },
   "outputs": [
    {
     "name": "stdout",
     "output_type": "stream",
     "text": [
      "Training...\n",
      "Epoch  1, CIFAR-10 Batch 1:  cost:     2.0199 accuracy: 0.266400\n",
      "Epoch  1, CIFAR-10 Batch 2:  cost:     1.7663 accuracy: 0.353800\n",
      "Epoch  1, CIFAR-10 Batch 3:  cost:     1.5423 accuracy: 0.398400\n",
      "Epoch  1, CIFAR-10 Batch 4:  cost:     1.4919 accuracy: 0.450800\n",
      "Epoch  1, CIFAR-10 Batch 5:  cost:     1.4754 accuracy: 0.472400\n",
      "Epoch  2, CIFAR-10 Batch 1:  cost:     1.5100 accuracy: 0.480000\n",
      "Epoch  2, CIFAR-10 Batch 2:  cost:     1.3197 accuracy: 0.510600\n",
      "Epoch  2, CIFAR-10 Batch 3:  cost:     1.2299 accuracy: 0.493600\n",
      "Epoch  2, CIFAR-10 Batch 4:  cost:     1.2101 accuracy: 0.534000\n",
      "Epoch  2, CIFAR-10 Batch 5:  cost:     1.2462 accuracy: 0.539800\n",
      "Epoch  3, CIFAR-10 Batch 1:  cost:     1.3075 accuracy: 0.540800\n",
      "Epoch  3, CIFAR-10 Batch 2:  cost:     1.1509 accuracy: 0.563600\n",
      "Epoch  3, CIFAR-10 Batch 3:  cost:     1.0691 accuracy: 0.551200\n",
      "Epoch  3, CIFAR-10 Batch 4:  cost:     1.0633 accuracy: 0.573000\n",
      "Epoch  3, CIFAR-10 Batch 5:  cost:     1.0961 accuracy: 0.577200\n",
      "Epoch  4, CIFAR-10 Batch 1:  cost:     1.1497 accuracy: 0.595400\n",
      "Epoch  4, CIFAR-10 Batch 2:  cost:     1.0484 accuracy: 0.577400\n",
      "Epoch  4, CIFAR-10 Batch 3:  cost:     0.9497 accuracy: 0.588800\n",
      "Epoch  4, CIFAR-10 Batch 4:  cost:     0.9458 accuracy: 0.603000\n",
      "Epoch  4, CIFAR-10 Batch 5:  cost:     0.9942 accuracy: 0.601600\n",
      "Epoch  5, CIFAR-10 Batch 1:  cost:     1.0546 accuracy: 0.622600\n",
      "Epoch  5, CIFAR-10 Batch 2:  cost:     0.9675 accuracy: 0.614000\n",
      "Epoch  5, CIFAR-10 Batch 3:  cost:     0.8934 accuracy: 0.606200\n",
      "Epoch  5, CIFAR-10 Batch 4:  cost:     0.8655 accuracy: 0.628200\n",
      "Epoch  5, CIFAR-10 Batch 5:  cost:     0.8822 accuracy: 0.629600\n",
      "Epoch  6, CIFAR-10 Batch 1:  cost:     0.9710 accuracy: 0.634800\n",
      "Epoch  6, CIFAR-10 Batch 2:  cost:     0.9052 accuracy: 0.633200\n",
      "Epoch  6, CIFAR-10 Batch 3:  cost:     0.8146 accuracy: 0.635200\n",
      "Epoch  6, CIFAR-10 Batch 4:  cost:     0.7752 accuracy: 0.646800\n",
      "Epoch  6, CIFAR-10 Batch 5:  cost:     0.8052 accuracy: 0.643200\n",
      "Epoch  7, CIFAR-10 Batch 1:  cost:     0.9066 accuracy: 0.659200\n",
      "Epoch  7, CIFAR-10 Batch 2:  cost:     0.8439 accuracy: 0.640200\n",
      "Epoch  7, CIFAR-10 Batch 3:  cost:     0.7704 accuracy: 0.637000\n",
      "Epoch  7, CIFAR-10 Batch 4:  cost:     0.7058 accuracy: 0.660200\n",
      "Epoch  7, CIFAR-10 Batch 5:  cost:     0.7729 accuracy: 0.644800\n",
      "Epoch  8, CIFAR-10 Batch 1:  cost:     0.8500 accuracy: 0.660400\n",
      "Epoch  8, CIFAR-10 Batch 2:  cost:     0.7975 accuracy: 0.641600\n",
      "Epoch  8, CIFAR-10 Batch 3:  cost:     0.7357 accuracy: 0.643000\n",
      "Epoch  8, CIFAR-10 Batch 4:  cost:     0.6774 accuracy: 0.666600\n",
      "Epoch  8, CIFAR-10 Batch 5:  cost:     0.6999 accuracy: 0.667800\n",
      "Epoch  9, CIFAR-10 Batch 1:  cost:     0.8154 accuracy: 0.665800\n",
      "Epoch  9, CIFAR-10 Batch 2:  cost:     0.7255 accuracy: 0.650600\n",
      "Epoch  9, CIFAR-10 Batch 3:  cost:     0.6699 accuracy: 0.654400\n",
      "Epoch  9, CIFAR-10 Batch 4:  cost:     0.6376 accuracy: 0.673000\n",
      "Epoch  9, CIFAR-10 Batch 5:  cost:     0.6733 accuracy: 0.663600\n",
      "Epoch 10, CIFAR-10 Batch 1:  cost:     0.7563 accuracy: 0.679000\n",
      "Epoch 10, CIFAR-10 Batch 2:  cost:     0.6748 accuracy: 0.670800\n",
      "Epoch 10, CIFAR-10 Batch 3:  cost:     0.6230 accuracy: 0.666200\n",
      "Epoch 10, CIFAR-10 Batch 4:  cost:     0.6119 accuracy: 0.671400\n",
      "Epoch 10, CIFAR-10 Batch 5:  cost:     0.6046 accuracy: 0.673000\n",
      "Epoch 11, CIFAR-10 Batch 1:  cost:     0.6981 accuracy: 0.683200\n",
      "Epoch 11, CIFAR-10 Batch 2:  cost:     0.6335 accuracy: 0.681000\n",
      "Epoch 11, CIFAR-10 Batch 3:  cost:     0.5379 accuracy: 0.680200\n",
      "Epoch 11, CIFAR-10 Batch 4:  cost:     0.5350 accuracy: 0.680200\n",
      "Epoch 11, CIFAR-10 Batch 5:  cost:     0.5400 accuracy: 0.687600\n",
      "Epoch 12, CIFAR-10 Batch 1:  cost:     0.6606 accuracy: 0.684200\n",
      "Epoch 12, CIFAR-10 Batch 2:  cost:     0.5717 accuracy: 0.685800\n",
      "Epoch 12, CIFAR-10 Batch 3:  cost:     0.4982 accuracy: 0.684400\n",
      "Epoch 12, CIFAR-10 Batch 4:  cost:     0.4899 accuracy: 0.691600\n",
      "Epoch 12, CIFAR-10 Batch 5:  cost:     0.5208 accuracy: 0.684800\n",
      "Epoch 13, CIFAR-10 Batch 1:  cost:     0.5953 accuracy: 0.686600\n",
      "Epoch 13, CIFAR-10 Batch 2:  cost:     0.5255 accuracy: 0.696600\n",
      "Epoch 13, CIFAR-10 Batch 3:  cost:     0.4579 accuracy: 0.688200\n",
      "Epoch 13, CIFAR-10 Batch 4:  cost:     0.4492 accuracy: 0.695000\n",
      "Epoch 13, CIFAR-10 Batch 5:  cost:     0.4365 accuracy: 0.702200\n",
      "Epoch 14, CIFAR-10 Batch 1:  cost:     0.5525 accuracy: 0.689400\n",
      "Epoch 14, CIFAR-10 Batch 2:  cost:     0.4979 accuracy: 0.694000\n",
      "Epoch 14, CIFAR-10 Batch 3:  cost:     0.4179 accuracy: 0.695200\n",
      "Epoch 14, CIFAR-10 Batch 4:  cost:     0.3990 accuracy: 0.701200\n",
      "Epoch 14, CIFAR-10 Batch 5:  cost:     0.4078 accuracy: 0.703200\n",
      "Epoch 15, CIFAR-10 Batch 1:  cost:     0.5058 accuracy: 0.692200\n",
      "Epoch 15, CIFAR-10 Batch 2:  cost:     0.4393 accuracy: 0.708600\n",
      "Epoch 15, CIFAR-10 Batch 3:  cost:     0.3709 accuracy: 0.699200\n",
      "Epoch 15, CIFAR-10 Batch 4:  cost:     0.3505 accuracy: 0.709200\n",
      "Epoch 15, CIFAR-10 Batch 5:  cost:     0.3690 accuracy: 0.708000\n",
      "Epoch 16, CIFAR-10 Batch 1:  cost:     0.4534 accuracy: 0.695800\n",
      "Epoch 16, CIFAR-10 Batch 2:  cost:     0.3927 accuracy: 0.711400\n",
      "Epoch 16, CIFAR-10 Batch 3:  cost:     0.3359 accuracy: 0.704000\n",
      "Epoch 16, CIFAR-10 Batch 4:  cost:     0.3178 accuracy: 0.708400\n",
      "Epoch 16, CIFAR-10 Batch 5:  cost:     0.3355 accuracy: 0.711000\n",
      "Epoch 17, CIFAR-10 Batch 1:  cost:     0.4020 accuracy: 0.701200\n",
      "Epoch 17, CIFAR-10 Batch 2:  cost:     0.3397 accuracy: 0.713200\n",
      "Epoch 17, CIFAR-10 Batch 3:  cost:     0.3127 accuracy: 0.703600\n",
      "Epoch 17, CIFAR-10 Batch 4:  cost:     0.2920 accuracy: 0.712200\n",
      "Epoch 17, CIFAR-10 Batch 5:  cost:     0.3031 accuracy: 0.712000\n",
      "Epoch 18, CIFAR-10 Batch 1:  cost:     0.3661 accuracy: 0.699800\n",
      "Epoch 18, CIFAR-10 Batch 2:  cost:     0.3186 accuracy: 0.712200\n",
      "Epoch 18, CIFAR-10 Batch 3:  cost:     0.2964 accuracy: 0.707000\n",
      "Epoch 18, CIFAR-10 Batch 4:  cost:     0.2732 accuracy: 0.711800\n",
      "Epoch 18, CIFAR-10 Batch 5:  cost:     0.3004 accuracy: 0.710800\n",
      "Epoch 19, CIFAR-10 Batch 1:  cost:     0.3265 accuracy: 0.703600\n",
      "Epoch 19, CIFAR-10 Batch 2:  cost:     0.2896 accuracy: 0.710200\n",
      "Epoch 19, CIFAR-10 Batch 3:  cost:     0.2455 accuracy: 0.711600\n",
      "Epoch 19, CIFAR-10 Batch 4:  cost:     0.2261 accuracy: 0.714600\n",
      "Epoch 19, CIFAR-10 Batch 5:  cost:     0.2679 accuracy: 0.706600\n",
      "Epoch 20, CIFAR-10 Batch 1:  cost:     0.2944 accuracy: 0.702600\n",
      "Epoch 20, CIFAR-10 Batch 2:  cost:     0.2688 accuracy: 0.702800\n",
      "Epoch 20, CIFAR-10 Batch 3:  cost:     0.2259 accuracy: 0.714600\n",
      "Epoch 20, CIFAR-10 Batch 4:  cost:     0.2138 accuracy: 0.708200\n",
      "Epoch 20, CIFAR-10 Batch 5:  cost:     0.2532 accuracy: 0.706000\n",
      "Epoch 21, CIFAR-10 Batch 1:  cost:     0.2779 accuracy: 0.696000\n",
      "Epoch 21, CIFAR-10 Batch 2:  cost:     0.2396 accuracy: 0.702800\n",
      "Epoch 21, CIFAR-10 Batch 3:  cost:     0.2196 accuracy: 0.707000\n",
      "Epoch 21, CIFAR-10 Batch 4:  cost:     0.1921 accuracy: 0.709800\n",
      "Epoch 21, CIFAR-10 Batch 5:  cost:     0.2136 accuracy: 0.704000\n",
      "Epoch 22, CIFAR-10 Batch 1:  cost:     0.2666 accuracy: 0.690400\n",
      "Epoch 22, CIFAR-10 Batch 2:  cost:     0.2551 accuracy: 0.700200\n",
      "Epoch 22, CIFAR-10 Batch 3:  cost:     0.2089 accuracy: 0.706200\n",
      "Epoch 22, CIFAR-10 Batch 4:  cost:     0.1917 accuracy: 0.701400\n",
      "Epoch 22, CIFAR-10 Batch 5:  cost:     0.1799 accuracy: 0.713000\n",
      "Epoch 23, CIFAR-10 Batch 1:  cost:     0.2313 accuracy: 0.692800\n",
      "Epoch 23, CIFAR-10 Batch 2:  cost:     0.2265 accuracy: 0.699000\n",
      "Epoch 23, CIFAR-10 Batch 3:  cost:     0.1765 accuracy: 0.718400\n",
      "Epoch 23, CIFAR-10 Batch 4:  cost:     0.1875 accuracy: 0.686600\n",
      "Epoch 23, CIFAR-10 Batch 5:  cost:     0.1618 accuracy: 0.708400\n",
      "Epoch 24, CIFAR-10 Batch 1:  cost:     0.1881 accuracy: 0.702200\n",
      "Epoch 24, CIFAR-10 Batch 2:  cost:     0.1880 accuracy: 0.704400\n",
      "Epoch 24, CIFAR-10 Batch 3:  cost:     0.1743 accuracy: 0.700000\n",
      "Epoch 24, CIFAR-10 Batch 4:  cost:     0.1618 accuracy: 0.697600\n",
      "Epoch 24, CIFAR-10 Batch 5:  cost:     0.1473 accuracy: 0.713000\n",
      "Epoch 25, CIFAR-10 Batch 1:  cost:     0.1882 accuracy: 0.699400\n",
      "Epoch 25, CIFAR-10 Batch 2:  cost:     0.1475 accuracy: 0.704200\n",
      "Epoch 25, CIFAR-10 Batch 3:  cost:     0.1341 accuracy: 0.704600\n",
      "Epoch 25, CIFAR-10 Batch 4:  cost:     0.1375 accuracy: 0.704400\n",
      "Epoch 25, CIFAR-10 Batch 5:  cost:     0.1508 accuracy: 0.710600\n",
      "Epoch 26, CIFAR-10 Batch 1:  cost:     0.1671 accuracy: 0.708600\n",
      "Epoch 26, CIFAR-10 Batch 2:  cost:     0.2007 accuracy: 0.685000\n",
      "Epoch 26, CIFAR-10 Batch 3:  cost:     0.1077 accuracy: 0.715000\n",
      "Epoch 26, CIFAR-10 Batch 4:  cost:     0.1380 accuracy: 0.699800\n",
      "Epoch 26, CIFAR-10 Batch 5:  cost:     0.1140 accuracy: 0.716000\n",
      "Epoch 27, CIFAR-10 Batch 1:  cost:     0.1591 accuracy: 0.702800\n",
      "Epoch 27, CIFAR-10 Batch 2:  cost:     0.1604 accuracy: 0.689800\n",
      "Epoch 27, CIFAR-10 Batch 3:  cost:     0.1125 accuracy: 0.707400\n",
      "Epoch 27, CIFAR-10 Batch 4:  cost:     0.1117 accuracy: 0.703800\n",
      "Epoch 27, CIFAR-10 Batch 5:  cost:     0.0926 accuracy: 0.716800\n",
      "Epoch 28, CIFAR-10 Batch 1:  cost:     0.1539 accuracy: 0.708800\n",
      "Epoch 28, CIFAR-10 Batch 2:  cost:     0.1366 accuracy: 0.701400\n",
      "Epoch 28, CIFAR-10 Batch 3:  cost:     0.1030 accuracy: 0.709200\n",
      "Epoch 28, CIFAR-10 Batch 4:  cost:     0.1064 accuracy: 0.702800\n",
      "Epoch 28, CIFAR-10 Batch 5:  cost:     0.0845 accuracy: 0.717200\n",
      "Epoch 29, CIFAR-10 Batch 1:  cost:     0.1109 accuracy: 0.709000\n",
      "Epoch 29, CIFAR-10 Batch 2:  cost:     0.0939 accuracy: 0.709800\n",
      "Epoch 29, CIFAR-10 Batch 3:  cost:     0.0881 accuracy: 0.709800\n",
      "Epoch 29, CIFAR-10 Batch 4:  cost:     0.0806 accuracy: 0.702400\n",
      "Epoch 29, CIFAR-10 Batch 5:  cost:     0.0795 accuracy: 0.708000\n",
      "Epoch 30, CIFAR-10 Batch 1:  cost:     0.0940 accuracy: 0.712600\n",
      "Epoch 30, CIFAR-10 Batch 2:  cost:     0.0742 accuracy: 0.712400\n",
      "Epoch 30, CIFAR-10 Batch 3:  cost:     0.0758 accuracy: 0.709600\n",
      "Epoch 30, CIFAR-10 Batch 4:  cost:     0.0878 accuracy: 0.702000\n",
      "Epoch 30, CIFAR-10 Batch 5:  cost:     0.0643 accuracy: 0.703400\n"
     ]
    }
   ],
   "source": [
    "\"\"\"\n",
    "DON'T MODIFY ANYTHING IN THIS CELL\n",
    "\"\"\"\n",
    "save_model_path = './image_classification'\n",
    "\n",
    "print('Training...')\n",
    "with tf.Session() as sess:\n",
    "    # Initializing the variables\n",
    "    sess.run(tf.global_variables_initializer())\n",
    "    \n",
    "    # Training cycle\n",
    "    for epoch in range(epochs):\n",
    "        # Loop over all batches\n",
    "        n_batches = 5\n",
    "        for batch_i in range(1, n_batches + 1):\n",
    "            for batch_features, batch_labels in helper.load_preprocess_training_batch(batch_i, batch_size):\n",
    "                train_neural_network(sess, optimizer, keep_probability, batch_features, batch_labels)\n",
    "            print('Epoch {:>2}, CIFAR-10 Batch {}:  '.format(epoch + 1, batch_i), end='')\n",
    "            print_stats(sess, batch_features, batch_labels, cost, accuracy)\n",
    "            \n",
    "    # Save Model\n",
    "    saver = tf.train.Saver()\n",
    "    save_path = saver.save(sess, save_model_path)"
   ]
  },
  {
   "cell_type": "markdown",
   "metadata": {
    "deletable": true,
    "editable": true
   },
   "source": [
    "# Checkpoint\n",
    "The model has been saved to disk.\n",
    "## Test Model\n",
    "Test your model against the test dataset.  This will be your final accuracy. You should have an accuracy greater than 50%. If you don't, keep tweaking the model architecture and parameters."
   ]
  },
  {
   "cell_type": "code",
   "execution_count": 38,
   "metadata": {
    "collapsed": false,
    "deletable": true,
    "editable": true
   },
   "outputs": [
    {
     "name": "stdout",
     "output_type": "stream",
     "text": [
      "Testing Accuracy: 0.7115406721830368\n",
      "\n"
     ]
    },
    {
     "data": {
      "image/png": "[encoded data removed]",
      "text/plain": [
       "<matplotlib.figure.Figure at 0x7f8ae0ec5518>"
      ]
     },
     "metadata": {
      "image/png": {
       "height": 319,
       "width": 355
      }
     },
     "output_type": "display_data"
    }
   ],
   "source": [
    "\"\"\"\n",
    "DON'T MODIFY ANYTHING IN THIS CELL\n",
    "\"\"\"\n",
    "%matplotlib inline\n",
    "%config InlineBackend.figure_format = 'retina'\n",
    "\n",
    "import tensorflow as tf\n",
    "import pickle\n",
    "import helper\n",
    "import random\n",
    "\n",
    "# Set batch size if not already set\n",
    "try:\n",
    "    if batch_size:\n",
    "        pass\n",
    "except NameError:\n",
    "    batch_size = 64\n",
    "\n",
    "save_model_path = './image_classification'\n",
    "n_samples = 4\n",
    "top_n_predictions = 3\n",
    "\n",
    "def test_model():\n",
    "    \"\"\"\n",
    "    Test the saved model against the test dataset\n",
    "    \"\"\"\n",
    "\n",
    "    test_features, test_labels = pickle.load(open('preprocess_training.p', mode='rb'))\n",
    "    loaded_graph = tf.Graph()\n",
    "\n",
    "    with tf.Session(graph=loaded_graph) as sess:\n",
    "        # Load model\n",
    "        loader = tf.train.import_meta_graph(save_model_path + '.meta')\n",
    "        loader.restore(sess, save_model_path)\n",
    "\n",
    "        # Get Tensors from loaded model\n",
    "        loaded_x = loaded_graph.get_tensor_by_name('x:0')\n",
    "        loaded_y = loaded_graph.get_tensor_by_name('y:0')\n",
    "        loaded_keep_prob = loaded_graph.get_tensor_by_name('keep_prob:0')\n",
    "        loaded_logits = loaded_graph.get_tensor_by_name('logits:0')\n",
    "        loaded_acc = loaded_graph.get_tensor_by_name('accuracy:0')\n",
    "        \n",
    "        # Get accuracy in batches for memory limitations\n",
    "        test_batch_acc_total = 0\n",
    "        test_batch_count = 0\n",
    "        \n",
    "        for train_feature_batch, train_label_batch in helper.batch_features_labels(test_features, test_labels, batch_size):\n",
    "            test_batch_acc_total += sess.run(\n",
    "                loaded_acc,\n",
    "                feed_dict={loaded_x: train_feature_batch, loaded_y: train_label_batch, loaded_keep_prob: 1.0})\n",
    "            test_batch_count += 1\n",
    "\n",
    "        print('Testing Accuracy: {}\\n'.format(test_batch_acc_total/test_batch_count))\n",
    "\n",
    "        # Print Random Samples\n",
    "        random_test_features, random_test_labels = tuple(zip(*random.sample(list(zip(test_features, test_labels)), n_samples)))\n",
    "        random_test_predictions = sess.run(\n",
    "            tf.nn.top_k(tf.nn.softmax(loaded_logits), top_n_predictions),\n",
    "            feed_dict={loaded_x: random_test_features, loaded_y: random_test_labels, loaded_keep_prob: 1.0})\n",
    "        helper.display_image_predictions(random_test_features, random_test_labels, random_test_predictions)\n",
    "\n",
    "\n",
    "test_model()"
   ]
  },
  {
   "cell_type": "markdown",
   "metadata": {
    "deletable": true,
    "editable": true
   },
   "source": [
    "## Why 50-70% Accuracy?\n",
    "You might be wondering why you can't get an accuracy any higher. First things first, 50% isn't bad for a simple CNN.  Pure guessing would get you 10% accuracy. However, you might notice people are getting scores [well above 70%](http://rodrigob.github.io/are_we_there_yet/build/classification_datasets_results.html#43494641522d3130).  That's because we haven't taught you all there is to know about neural networks. We still need to cover a few more techniques.\n",
    "## Submitting This Project\n",
    "When submitting this project, make sure to run all the cells before saving the notebook.  Save the notebook file as \"dlnd_image_classification.ipynb\" and save it as a HTML file under \"File\" -> \"Download as\".  Include the \"helper.py\" and \"problem_unittests.py\" files in your submission."
   ]
  }
 ],
 "metadata": {
  "kernelspec": {
   "display_name": "Python 3",
   "language": "python",
   "name": "python3"
  },
  "language_info": {
   "codemirror_mode": {
    "name": "ipython",
    "version": 3
   },
   "file_extension": ".py",
   "mimetype": "text/x-python",
   "name": "python",
   "nbconvert_exporter": "python",
   "pygments_lexer": "ipython3",
   "version": "3.5.2"
  },
  "widgets": {
   "state": {},
   "version": "1.1.2"
  }
 },
 "nbformat": 4,
 "nbformat_minor": 0
}
